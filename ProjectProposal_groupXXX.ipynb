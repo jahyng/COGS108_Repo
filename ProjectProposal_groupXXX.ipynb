{
 "cells": [
  {
   "cell_type": "markdown",
   "metadata": {},
   "source": [
    "# COGS 108 - Final Project Proposal"
   ]
  },
  {
   "cell_type": "markdown",
   "metadata": {},
   "source": [
    "# Names\n",
    "\n",
    "- Nora Chen\n",
    "- Karina Shih\n",
    "- Alex Farrow\n",
    "- Josh Yang\n",
    "- Riya Kalra\n"
   ]
  },
  {
   "cell_type": "markdown",
   "metadata": {},
   "source": [
    "# Research Question"
   ]
  },
  {
   "cell_type": "markdown",
   "metadata": {},
   "source": [
    "How does the title of a video, when considered as clickbait, impact viewership interactions? There are certain characteristics of video titles that entail them to be clickbait, and these characteristics have a measurable effect on viewership, clicks, and interactions with the video.\n"
   ]
  },
  {
   "cell_type": "markdown",
   "metadata": {},
   "source": [
    "# Background and Prior Work"
   ]
  },
  {
   "cell_type": "markdown",
   "metadata": {},
   "source": [
    "Clickbait is a term used to describe the practice of using sensationalized or exaggerated titles in order to grab the attention of an audience, often by appealing to their emotions or curiosity. These attention-grabbing tactics are employed with the intention of enticing individuals to click on a particular link or engage with the content, sometimes leading to disappointment when the actual content fails to live up to the expectations that was created. By engaging in clickbait, creators can drive more traffic into their site/video which in turn earns them more advertising money, clicks, or conversions. The term was coined back in December 2006 by Jay Geiger in a blog post where ‘click’ refers to clicking on a link and ‘bait’ referring to reeling in viewers like a fish on a hook. An example of clickbait is “I can’t believe what this celebrity did in public!” The exaggerated nature of the title piques curiosity and entices individuals to click on the link to find out more, even though the actual content could simply be them grocery shopping or picking up trash and throwing it away. \n",
    "\n",
    "Previous research on ‘clickbait’ has focused on detecting and preventing clickbait on online news media [^Chakraborty2016] and investigating the impact of having clickbait news article titles on readers [^Scacco2016]. In the former, they found that online news media outlets heavily rely on revenue from clicks, leading to intense competition for reader attention. To attract clicks, outlets use catchy clickbait headlines that often fail to meet readers' expectations. Thus, researchers have developed methods to automatically detect clickbait and created a browser extension that warns readers about clickbait and allows them to block unwanted content. Through extensive experiments, the clickbait detection and personalized blocking approaches achieved high accuracy, with 93% accuracy in detecting clickbait and 89% accuracy in blocking it. While in the latter, researchers examined the effects of headlines with varying levels of uncertainty on reactions to political news. The researchers investigated whether traditional, forward-reference, or question-based headlines elicited negative reactions, negative expectations, and reduced intentions to engage with the news article.\n",
    "\n",
    " In our work, we seek to address any possible shared characteristics between clickbait video titles from a particular YouTube channel: 5-Minute Craft where they showcase various do-it-yourself (DIY) projects and crafts that can be completed in under 5 minutes. Similar to research done by [^Jung2012], in “Click Me…! The influence of clickbait on user engagement in social media and the role of digital nudging”, they examined the factors that influenced the effectiveness of clickbait headlines in driving user engagement on social media and found headlines that are emotionally charged, mysterious, or offer a sense of urgency are more likely to be clicked on. However, in our paper we aim to focus on a specific analysis of the shared characteristics of clickbait video titles used by the YouTube channel 5-Minute Craft. By examining the video titles of this particular channel, we intend to investigate whether they employ similar strategies as those identified in previous research, such as utilizing emotionally charged language, creating curiosity or mystery, or generating a sense of urgency to attract viewers' attention and engagement.\n",
    "\n",
    "References: \n",
    "\n",
    "Chakraborty, A., Paranjape, B., Kakarla, S., & Ganguly, N. (2016). Stop Clickbait: Detecting and preventing clickbaits in online news media. 2016 IEEE/ACM International Conference on Advances in Social Networks Analysis and Mining (ASONAM), 9–16. https://doi.org/10.1109/ASONAM.2016.7752207\n",
    "\n",
    "https://www.sandiegouniontribune.com/sdut-michael-smolens-staff.html. (2022, April 6). Column: The latest challenge facing public transit: bus driver shortage. San Diego Union-Tribune. https://www.sandiegouniontribune.com/columnists/story/2022-04-06/column-the-latest-challenge-facing-transit-driver-shortage\n",
    "\n",
    "Jung, A.-K., Stieglitz, S., Kissmer, T., Mirbabaie, M., & Kroll, T. (2022). Click me…! The influence of clickbait on user engagement in social media and the role of digital nudging. PLOS ONE, 17(6), e0266743. https://doi.org/10.1371/journal.pone.0266743\n",
    "The History Behind Clickbait: The Negative Journalism - Hollywood Insider. (2021, October 31). https://www.hollywoodinsider.com/clickbait-history/\n"
   ]
  },
  {
   "cell_type": "markdown",
   "metadata": {},
   "source": [
    "# Hypothesis\n"
   ]
  },
  {
   "cell_type": "markdown",
   "metadata": {},
   "source": [
    "It will stand to be shown that the dynamics between the different aspects of the video itself on the youtube platform, the video title, total activity since post date, content presentation, thumbnail composition, play a significant role in viewership analytics. If when analyzed, these factors do not play a significant role, the null hypothesis will be accepted, as if they do not have a measurable effect.\n"
   ]
  },
  {
   "cell_type": "markdown",
   "metadata": {},
   "source": [
    "# Data"
   ]
  },
  {
   "cell_type": "markdown",
   "metadata": {},
   "source": [
    "1. Explain what is the **ideal** dataset for answering this question. (This should include: What variables? How many observations? Who/what/how would this data be collected? How would this data be stored/organized?)\n",
    "    1. The ideal dataset would have the clickbait title and different measurements of engagement with the video. This includes but is not limited to the median number of minutes watched, number of views,number of likes and dislikes and comments, and then sentiment of those comments. \n",
    "    \n",
    "2. Search for potential **real** datasets that could provide you with something useful for this project.  You do not have to find every piece of data you will use, but you do need to have demonstrated some idea that (a) this data is available and (b) that this data may be different from what your ideal is, and you are considering strategies to use or adapt it or adapt your question.\n",
    "    1. 5-Minute Crafts: Video Clickbait Titles? - a Kaggel dataset containing the title, total views, length of video and other measurements. It also includes the number of words in the title and punctuation marks as well. Some limitations is that it does not have any measurements for engagement other than views. This dataset does not specify the number of likes, dislikes, or comments each video obtained. "
   ]
  },
  {
   "cell_type": "markdown",
   "metadata": {},
   "source": [
    "# Ethics & Privacy"
   ]
  },
  {
   "cell_type": "markdown",
   "metadata": {},
   "source": [
    "- Are there any biases/privacy/terms of use issues with the data you proposed?\n",
    "    - Bias in the sense that the data is representative of one channel whose content depends on proposing questionable, at worst dangerous, and at the very least misleading or unhelpful advice to people to farm engagement. Privacy is not a large concern, the data collected from youtube does not include any personal information whatsoever, only analytics regarding viewership and the video itself. There may be bias in the way the youtube algorithm presents videos, where uploaders could catalyze viewership through clickbait, thus youtube highly favors clickbait when serving videos. \n",
    "- Are there potential biases in your dataset(s), in terms of who it composes, and how it was collected, that may be problematic in terms of it allowing for unbiased analysis? (For example, does your data exclude particular \n",
    "populations, or is it likely to reflect particular human biases in a way that could be a problem?)\n",
    "    - The data would exclude non-clickbait content. It is taken as a premise that the channel exclusively uses clickbait in their videos, so that the data is composed solely of different varieties of clickbait utilized by the channel. The collection of the data is publicly available from youtube and anonymized, users watch videos of their own volition so there is no attempt at coercion to view the videos, only attempts to reap the largest engagement possible. \n",
    "- How will you set out to detect these specific biases before, during, and after/when communicating your analysis?\n",
    "    - Before analyzing the data, the bias of the source and platform are acknowledged and accounted for in our sourcing. When the analysis is carried out \n"
   ]
  },
  {
   "cell_type": "markdown",
   "metadata": {},
   "source": [
    "# Team Expectations "
   ]
  },
  {
   "cell_type": "markdown",
   "metadata": {},
   "source": [
    "\n",
    "* All members will be respectful to one another.\n",
    "* All members will be responsible for an equal amount of work in relation to others.\n",
    "* Communication will mostly be handled through text and scheduled Discord calls or Zoom meetings.\n",
    "* Should conflict arise between group members, they will discuss with another group member to mediate. If the issue still is not solved, then the group will escalate the issue and bring it up to IAs, TAs, or the professor.\n"
   ]
  },
  {
   "cell_type": "markdown",
   "metadata": {},
   "source": [
    "# Project Timeline Proposal"
   ]
  },
  {
   "cell_type": "markdown",
   "metadata": {},
   "source": [
    "\n",
    "\n",
    "\n",
    "\n",
    "| Meeting Date  | Meeting Time| Completed Before Meeting  | Discuss at Meeting |\n",
    "|---|---|---|---|\n",
    "| 7/13  |  6:30 PM | Get everyone’s contact information and create a group chat to discuss when to meet. Read the past final projects to figure out which one we would want to review.  | Discussed which time works best to meet for the final project components. Discussed which past final projects we wanted to do and filled out the google form. Discussed a topic we would like to do for the final project and researched | \n",
    "| 7/19  |  5:30 PM | Do some research on the data sets that we want to do.  | Discussed which data sets we want to do to have the ideal project. Discussed what everyone would do for the EDA.  | \n",
    "| 7/26 | 5:30 pm  | Complete some parts of the EDA and had a rough draft of what we want to incorporate in it   |Discussed what everyone would do for the EDA. Discussed what to incorporate and leave out  |\n",
    "| 8/2  | 5:30 PM  | Have a rough draft of the final report. | Discuss the final report and edit what we want to add or delete from our final project.  |\n",
    "| 8/2  | 5:30 PM  | Have a rough draft of what we are going to talk about in our video presentation report. | Discuss what each person will talk about in the video presentation report summary. Discuss how we want to say each thing. |\n",
    "| 8/3  | 6:30 PM  |Check that we finished every part of the project and have the final parts in. | Discuss/edit full project |\n",
    "| 8/5  | Before 11:59 PM  | NA | Turn in Final Project & Group Project Surveys |"
   ]
  },
  {
   "cell_type": "markdown",
   "metadata": {},
   "source": []
  }
 ],
 "metadata": {
  "kernelspec": {
   "display_name": "Python 3 (ipykernel)",
   "language": "python",
   "name": "python3"
  },
  "language_info": {
   "codemirror_mode": {
    "name": "ipython",
    "version": 3
   },
   "file_extension": ".py",
   "mimetype": "text/x-python",
   "name": "python",
   "nbconvert_exporter": "python",
   "pygments_lexer": "ipython3",
   "version": "3.9.13"
  }
 },
 "nbformat": 4,
 "nbformat_minor": 2
}
